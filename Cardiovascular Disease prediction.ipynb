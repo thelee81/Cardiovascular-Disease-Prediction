{
 "cells": [
  {
   "cell_type": "markdown",
   "metadata": {},
   "source": [
    "# Cardiovascular Disease (Heart disease) Prediction\n",
    "\n",
    "Heart disease describes a range of conditions that affect your heart. Diseases under the heart disease umbrella include blood vessel diseases, such as coronary artery disease; heart rhythm problems (arrhythmias); and heart defects you're born with (congenital heart defects), among others.\n",
    "\n",
    "The term \"heart disease\" is often used interchangeably with the term \"cardiovascular disease.\" Cardiovascular disease generally refers to conditions that involve narrowed or blocked blood vessels that can lead to a heart attack, chest pain (angina) or stroke. Other heart conditions, such as those that affect your heart's muscle, valves or rhythm, also are considered forms of heart disease.\n",
    "\n",
    "<img src=https://www.mayoclinic.org/-/media/kcms/gbs/patient-consumer/images/2014/09/22/12/43/mcdc7_theheart.jpg, width=\"300\" height=\"300\">\n",
    "\n",
    "More refrence:\n",
    "https://www.mayoclinic.org/diseases-conditions/heart-disease/symptoms-causes/syc-20353118\n",
    "\n",
    "# Objective of this notebook \n",
    "\n",
    "To show how Machine Learning and Deep Learning methods can be used on tabular data to build models that predicts the disease.\n",
    "\n",
    "For Machine Learning Random Forest was used to build model\n",
    "For Deep Learning TensorFlow Keras was used to build model\n",
    "\n",
    "# Data description\n",
    "There are 3 types of input features:\n",
    "\n",
    "1. Objective: factual information;\n",
    "2. Examination: results of medical examination;\n",
    "3. Subjective: information given by the patient.\n",
    "\n",
    "\n",
    "**Features:**\n",
    "\n",
    "|Feature Name | Objective Feature | Column Name | Data Type|\n",
    "|------|------|------|------|\n",
    "|Age | Objective Feature | age | int (days)|\n",
    "|Height | Objective Feature | height | int (cm) |\n",
    "|Weight | Objective Feature | weight | float (kg) |\n",
    "|Gender | Objective Feature | gender | categorical code |\n",
    "|Systolic blood pressure | Examination Feature | ap_hi | int |\n",
    "|Diastolic blood pressure | Examination Feature | ap_lo | int |\n",
    "|Cholesterol | Examination Feature | cholesterol | 1: normal, 2: above normal, 3: well above normal |\n",
    "|Glucose | Examination Feature | gluc | 1: normal, 2: above normal, 3: well above normal |\n",
    "|Smoking | Subjective Feature | smoke | binary |\n",
    "|Alcohol intake | Subjective Feature | alco | binary |\n",
    "|Physical activity | Subjective Feature | active | binary |\n",
    "|Presence or absence of cardiovascular disease | Target Variable | cardio | binary |\n",
    "| | | | |\n"
   ]
  },
  {
   "cell_type": "code",
   "execution_count": 1,
   "metadata": {},
   "outputs": [],
   "source": [
    "import numpy as np\n",
    "import pandas as pd\n",
    "import seaborn as sns\n",
    "import matplotlib.pyplot as plt\n",
    "import pickle\n",
    "%matplotlib inline\n",
    "sns.set_style(\"dark\")"
   ]
  },
  {
   "cell_type": "code",
   "execution_count": 2,
   "metadata": {},
   "outputs": [],
   "source": [
    "df=pd.read_csv('./data/cardio_train.csv',delimiter=';')"
   ]
  },
  {
   "cell_type": "code",
   "execution_count": 3,
   "metadata": {},
   "outputs": [
    {
     "data": {
      "text/html": [
       "<div>\n",
       "<style scoped>\n",
       "    .dataframe tbody tr th:only-of-type {\n",
       "        vertical-align: middle;\n",
       "    }\n",
       "\n",
       "    .dataframe tbody tr th {\n",
       "        vertical-align: top;\n",
       "    }\n",
       "\n",
       "    .dataframe thead th {\n",
       "        text-align: right;\n",
       "    }\n",
       "</style>\n",
       "<table border=\"1\" class=\"dataframe\">\n",
       "  <thead>\n",
       "    <tr style=\"text-align: right;\">\n",
       "      <th></th>\n",
       "      <th>id</th>\n",
       "      <th>age</th>\n",
       "      <th>gender</th>\n",
       "      <th>height</th>\n",
       "      <th>weight</th>\n",
       "      <th>ap_hi</th>\n",
       "      <th>ap_lo</th>\n",
       "      <th>cholesterol</th>\n",
       "      <th>gluc</th>\n",
       "      <th>smoke</th>\n",
       "      <th>alco</th>\n",
       "      <th>active</th>\n",
       "      <th>cardio</th>\n",
       "    </tr>\n",
       "  </thead>\n",
       "  <tbody>\n",
       "    <tr>\n",
       "      <th>0</th>\n",
       "      <td>0</td>\n",
       "      <td>18393</td>\n",
       "      <td>2</td>\n",
       "      <td>168</td>\n",
       "      <td>62.0</td>\n",
       "      <td>110</td>\n",
       "      <td>80</td>\n",
       "      <td>1</td>\n",
       "      <td>1</td>\n",
       "      <td>0</td>\n",
       "      <td>0</td>\n",
       "      <td>1</td>\n",
       "      <td>0</td>\n",
       "    </tr>\n",
       "    <tr>\n",
       "      <th>1</th>\n",
       "      <td>1</td>\n",
       "      <td>20228</td>\n",
       "      <td>1</td>\n",
       "      <td>156</td>\n",
       "      <td>85.0</td>\n",
       "      <td>140</td>\n",
       "      <td>90</td>\n",
       "      <td>3</td>\n",
       "      <td>1</td>\n",
       "      <td>0</td>\n",
       "      <td>0</td>\n",
       "      <td>1</td>\n",
       "      <td>1</td>\n",
       "    </tr>\n",
       "    <tr>\n",
       "      <th>2</th>\n",
       "      <td>2</td>\n",
       "      <td>18857</td>\n",
       "      <td>1</td>\n",
       "      <td>165</td>\n",
       "      <td>64.0</td>\n",
       "      <td>130</td>\n",
       "      <td>70</td>\n",
       "      <td>3</td>\n",
       "      <td>1</td>\n",
       "      <td>0</td>\n",
       "      <td>0</td>\n",
       "      <td>0</td>\n",
       "      <td>1</td>\n",
       "    </tr>\n",
       "    <tr>\n",
       "      <th>3</th>\n",
       "      <td>3</td>\n",
       "      <td>17623</td>\n",
       "      <td>2</td>\n",
       "      <td>169</td>\n",
       "      <td>82.0</td>\n",
       "      <td>150</td>\n",
       "      <td>100</td>\n",
       "      <td>1</td>\n",
       "      <td>1</td>\n",
       "      <td>0</td>\n",
       "      <td>0</td>\n",
       "      <td>1</td>\n",
       "      <td>1</td>\n",
       "    </tr>\n",
       "    <tr>\n",
       "      <th>4</th>\n",
       "      <td>4</td>\n",
       "      <td>17474</td>\n",
       "      <td>1</td>\n",
       "      <td>156</td>\n",
       "      <td>56.0</td>\n",
       "      <td>100</td>\n",
       "      <td>60</td>\n",
       "      <td>1</td>\n",
       "      <td>1</td>\n",
       "      <td>0</td>\n",
       "      <td>0</td>\n",
       "      <td>0</td>\n",
       "      <td>0</td>\n",
       "    </tr>\n",
       "  </tbody>\n",
       "</table>\n",
       "</div>"
      ],
      "text/plain": [
       "   id    age  gender  height  weight  ap_hi  ap_lo  cholesterol  gluc  smoke  \\\n",
       "0   0  18393       2     168    62.0    110     80            1     1      0   \n",
       "1   1  20228       1     156    85.0    140     90            3     1      0   \n",
       "2   2  18857       1     165    64.0    130     70            3     1      0   \n",
       "3   3  17623       2     169    82.0    150    100            1     1      0   \n",
       "4   4  17474       1     156    56.0    100     60            1     1      0   \n",
       "\n",
       "   alco  active  cardio  \n",
       "0     0       1       0  \n",
       "1     0       1       1  \n",
       "2     0       0       1  \n",
       "3     0       1       1  \n",
       "4     0       0       0  "
      ]
     },
     "execution_count": 3,
     "metadata": {},
     "output_type": "execute_result"
    }
   ],
   "source": [
    "df.head()"
   ]
  },
  {
   "cell_type": "code",
   "execution_count": 4,
   "metadata": {},
   "outputs": [],
   "source": [
    "df.drop('id',inplace=True,axis=1)"
   ]
  },
  {
   "cell_type": "code",
   "execution_count": 5,
   "metadata": {},
   "outputs": [],
   "source": [
    "df.age=df.age/356"
   ]
  },
  {
   "cell_type": "code",
   "execution_count": 6,
   "metadata": {},
   "outputs": [
    {
     "data": {
      "text/plain": [
       "age            0\n",
       "gender         0\n",
       "height         0\n",
       "weight         0\n",
       "ap_hi          0\n",
       "ap_lo          0\n",
       "cholesterol    0\n",
       "gluc           0\n",
       "smoke          0\n",
       "alco           0\n",
       "active         0\n",
       "cardio         0\n",
       "dtype: int64"
      ]
     },
     "execution_count": 6,
     "metadata": {},
     "output_type": "execute_result"
    }
   ],
   "source": [
    "df.isnull().sum()"
   ]
  },
  {
   "cell_type": "code",
   "execution_count": 7,
   "metadata": {},
   "outputs": [
    {
     "name": "stdout",
     "output_type": "stream",
     "text": [
      "<class 'pandas.core.frame.DataFrame'>\n",
      "RangeIndex: 70000 entries, 0 to 69999\n",
      "Data columns (total 12 columns):\n",
      "age            70000 non-null float64\n",
      "gender         70000 non-null int64\n",
      "height         70000 non-null int64\n",
      "weight         70000 non-null float64\n",
      "ap_hi          70000 non-null int64\n",
      "ap_lo          70000 non-null int64\n",
      "cholesterol    70000 non-null int64\n",
      "gluc           70000 non-null int64\n",
      "smoke          70000 non-null int64\n",
      "alco           70000 non-null int64\n",
      "active         70000 non-null int64\n",
      "cardio         70000 non-null int64\n",
      "dtypes: float64(2), int64(10)\n",
      "memory usage: 6.4 MB\n"
     ]
    }
   ],
   "source": [
    "df.info()"
   ]
  },
  {
   "cell_type": "code",
   "execution_count": 8,
   "metadata": {},
   "outputs": [],
   "source": [
    "#!pip install pandas-profiling"
   ]
  },
  {
   "cell_type": "code",
   "execution_count": 9,
   "metadata": {},
   "outputs": [],
   "source": [
    "import pandas_profiling as pp"
   ]
  },
  {
   "cell_type": "markdown",
   "metadata": {},
   "source": [
    "## Profile report"
   ]
  },
  {
   "cell_type": "code",
   "execution_count": 10,
   "metadata": {},
   "outputs": [
    {
     "name": "stdout",
     "output_type": "stream",
     "text": [
      "Wall time: 0 ns\n"
     ]
    }
   ],
   "source": [
    "%%time\n",
    "\n",
    "#pp.ProfileReport(df)"
   ]
  },
  {
   "cell_type": "markdown",
   "metadata": {},
   "source": [
    " - Average age (years) is 54.6 and it spans between 30 and 66.6\n",
    " - Only two gender but there is more data of females than males\n",
    " - Average height (cm) is ~164cm and max height is 250cm. There is a very short person's data with 55cm height or input error, definitely not a baby since the minimum age is ~30.\n",
    " - Average weight (kg) is ~74.2 but the minimum is 10, probably the shortest person's weight. we may need to remove this outlier. Maximum is 200kg.\n",
    " - Average ap_hi (Systolic blood pressure) is ~128.8 with very low minimum of -150 and very high maximum of 16020. Definitely there are outliers to be removed. Range of Systolic blood pressure is usually between 90 and 250.\n",
    " - Average ap_lo (Diastolic blood pressure) is ~96.6 with very low minimum of -70 and very high maximum of 11000. Definitely there are outliers to be removed. Diastolic blood pressure usually ranges between 60 and 140.\n",
    " - cholesterol data has more normal cholesterol records that other two categories.\n",
    " - Like cholesterol same goes to gluc data too.\n",
    " - smoke more non smokers records than smokers.\n",
    " - alco numner of less frequent alcohol consumer data is higher than frequent consumers.\n",
    " - active more active people data than less active.\n",
    " - cardio target data is almost balanced.\n"
   ]
  },
  {
   "cell_type": "markdown",
   "metadata": {},
   "source": [
    "## Finding and removing the outliers"
   ]
  },
  {
   "cell_type": "markdown",
   "metadata": {},
   "source": [
    "### height"
   ]
  },
  {
   "cell_type": "code",
   "execution_count": 11,
   "metadata": {},
   "outputs": [
    {
     "data": {
      "image/png": "[encoded data removed]",
      "text/plain": [
       "<Figure size 864x216 with 1 Axes>"
      ]
     },
     "metadata": {},
     "output_type": "display_data"
    }
   ],
   "source": [
    "sns.catplot(x='height',data=df,height=3, aspect=4,)\n",
    "plt.show()"
   ]
  },
  {
   "cell_type": "code",
   "execution_count": 12,
   "metadata": {},
   "outputs": [
    {
     "data": {
      "text/plain": [
       "22"
      ]
     },
     "execution_count": 12,
     "metadata": {},
     "output_type": "execute_result"
    }
   ],
   "source": [
    "len(df[df.height <80])"
   ]
  },
  {
   "cell_type": "code",
   "execution_count": 13,
   "metadata": {},
   "outputs": [
    {
     "data": {
      "text/plain": [
       "1"
      ]
     },
     "execution_count": 13,
     "metadata": {},
     "output_type": "execute_result"
    }
   ],
   "source": [
    "len(df[df.height >225])"
   ]
  },
  {
   "cell_type": "markdown",
   "metadata": {},
   "source": [
    "There are a few patients are shorter than 60cm and one patient above 225cm. Lets remove them from the data."
   ]
  },
  {
   "cell_type": "code",
   "execution_count": 14,
   "metadata": {},
   "outputs": [],
   "source": [
    "df.drop(df[df.height <80].index, inplace=True)\n",
    "df.drop(df[df.height >225].index, inplace=True)"
   ]
  },
  {
   "cell_type": "markdown",
   "metadata": {},
   "source": [
    "### weight"
   ]
  },
  {
   "cell_type": "code",
   "execution_count": 15,
   "metadata": {},
   "outputs": [
    {
     "data": {
      "image/png": "[encoded data removed]",
      "text/plain": [
       "<Figure size 864x216 with 1 Axes>"
      ]
     },
     "metadata": {},
     "output_type": "display_data"
    }
   ],
   "source": [
    "sns.catplot(x='weight',data=df,height=3, aspect=4,)\n",
    "plt.show()"
   ]
  },
  {
   "cell_type": "code",
   "execution_count": 16,
   "metadata": {},
   "outputs": [
    {
     "data": {
      "text/plain": [
       "5"
      ]
     },
     "execution_count": 16,
     "metadata": {},
     "output_type": "execute_result"
    }
   ],
   "source": [
    "len(df[df.weight <25])"
   ]
  },
  {
   "cell_type": "code",
   "execution_count": 17,
   "metadata": {},
   "outputs": [
    {
     "data": {
      "text/plain": [
       "2"
      ]
     },
     "execution_count": 17,
     "metadata": {},
     "output_type": "execute_result"
    }
   ],
   "source": [
    "len(df[df.weight >190])"
   ]
  },
  {
   "cell_type": "markdown",
   "metadata": {},
   "source": [
    "Lets remove the data for the patients whom weigh less than 25kg and more than 190kg"
   ]
  },
  {
   "cell_type": "code",
   "execution_count": 18,
   "metadata": {},
   "outputs": [],
   "source": [
    "df.drop(df[df.weight <25].index, inplace=True)\n",
    "df.drop(df[df.weight >190].index, inplace=True)"
   ]
  },
  {
   "cell_type": "markdown",
   "metadata": {},
   "source": [
    "### ap_hi"
   ]
  },
  {
   "cell_type": "code",
   "execution_count": 19,
   "metadata": {},
   "outputs": [
    {
     "data": {
      "image/png": "[encoded data removed]",
      "text/plain": [
       "<Figure size 864x216 with 1 Axes>"
      ]
     },
     "metadata": {},
     "output_type": "display_data"
    }
   ],
   "source": [
    "sns.catplot(x='ap_hi',data=df,height=3, aspect=4,)\n",
    "plt.show()"
   ]
  },
  {
   "cell_type": "code",
   "execution_count": 20,
   "metadata": {},
   "outputs": [
    {
     "data": {
      "text/plain": [
       "206"
      ]
     },
     "execution_count": 20,
     "metadata": {},
     "output_type": "execute_result"
    }
   ],
   "source": [
    "len(df[df.ap_hi <80])"
   ]
  },
  {
   "cell_type": "code",
   "execution_count": 21,
   "metadata": {},
   "outputs": [
    {
     "data": {
      "text/plain": [
       "40"
      ]
     },
     "execution_count": 21,
     "metadata": {},
     "output_type": "execute_result"
    }
   ],
   "source": [
    "len(df[df.ap_hi >260])"
   ]
  },
  {
   "cell_type": "markdown",
   "metadata": {},
   "source": [
    "Lets remove the data for the patients whom has the reading less than 80 and higher than 250 with some tolerance added."
   ]
  },
  {
   "cell_type": "code",
   "execution_count": 22,
   "metadata": {},
   "outputs": [],
   "source": [
    "df.drop(df[df.ap_hi <80].index, inplace=True)\n",
    "df.drop(df[df.ap_hi >250].index, inplace=True)"
   ]
  },
  {
   "cell_type": "markdown",
   "metadata": {},
   "source": [
    "### ap_lo"
   ]
  },
  {
   "cell_type": "code",
   "execution_count": 23,
   "metadata": {},
   "outputs": [
    {
     "data": {
      "image/png": "[encoded data removed]",
      "text/plain": [
       "<Figure size 864x216 with 1 Axes>"
      ]
     },
     "metadata": {},
     "output_type": "display_data"
    }
   ],
   "source": [
    "sns.catplot(x='ap_lo',data=df,height=3, aspect=4,)\n",
    "plt.show()"
   ]
  },
  {
   "cell_type": "code",
   "execution_count": 24,
   "metadata": {},
   "outputs": [
    {
     "data": {
      "text/plain": [
       "62"
      ]
     },
     "execution_count": 24,
     "metadata": {},
     "output_type": "execute_result"
    }
   ],
   "source": [
    "len(df[df.ap_lo <50])"
   ]
  },
  {
   "cell_type": "code",
   "execution_count": 25,
   "metadata": {},
   "outputs": [
    {
     "data": {
      "text/plain": [
       "968"
      ]
     },
     "execution_count": 25,
     "metadata": {},
     "output_type": "execute_result"
    }
   ],
   "source": [
    "len(df[df.ap_lo >150])"
   ]
  },
  {
   "cell_type": "markdown",
   "metadata": {},
   "source": [
    "Lets remove the data for the patients whom has the reading less than 50 and higher than 150 with some tolerance added."
   ]
  },
  {
   "cell_type": "code",
   "execution_count": 26,
   "metadata": {},
   "outputs": [],
   "source": [
    "df.drop(df[df.ap_lo <50].index, inplace=True)\n",
    "df.drop(df[df.ap_lo >150].index, inplace=True)"
   ]
  },
  {
   "cell_type": "markdown",
   "metadata": {},
   "source": [
    "### Incorrect blood pressure reading\n",
    "diastolic pressure must be lower than systolic otherwise its incorrect reading"
   ]
  },
  {
   "cell_type": "code",
   "execution_count": 27,
   "metadata": {},
   "outputs": [
    {
     "data": {
      "text/plain": [
       "74"
      ]
     },
     "execution_count": 27,
     "metadata": {},
     "output_type": "execute_result"
    }
   ],
   "source": [
    "len(df[df['ap_lo']> df['ap_hi']])"
   ]
  },
  {
   "cell_type": "markdown",
   "metadata": {},
   "source": [
    "Lets remove the incorrect readings"
   ]
  },
  {
   "cell_type": "code",
   "execution_count": 28,
   "metadata": {},
   "outputs": [],
   "source": [
    "df.drop(df[df['ap_lo']> df['ap_hi']].index, inplace=True)"
   ]
  },
  {
   "cell_type": "code",
   "execution_count": 29,
   "metadata": {},
   "outputs": [
    {
     "data": {
      "text/plain": [
       "(68620, 12)"
      ]
     },
     "execution_count": 29,
     "metadata": {},
     "output_type": "execute_result"
    }
   ],
   "source": [
    "df.shape"
   ]
  },
  {
   "cell_type": "markdown",
   "metadata": {},
   "source": [
    "## EDA"
   ]
  },
  {
   "cell_type": "code",
   "execution_count": 30,
   "metadata": {},
   "outputs": [
    {
     "data": {
      "image/png": "[encoded data removed]",
      "text/plain": [
       "<Figure size 1080x288 with 1 Axes>"
      ]
     },
     "metadata": {},
     "output_type": "display_data"
    }
   ],
   "source": [
    "plt.figure(figsize=(15,4))\n",
    "sns.countplot(x='gender',data=df,hue='cardio');"
   ]
  },
  {
   "cell_type": "markdown",
   "metadata": {},
   "source": [
    "Number of patients with the disease and no disease is balanced in each gender."
   ]
  },
  {
   "cell_type": "code",
   "execution_count": 31,
   "metadata": {},
   "outputs": [
    {
     "data": {
      "image/png": "[encoded data removed]",
      "text/plain": [
       "<Figure size 1080x288 with 1 Axes>"
      ]
     },
     "metadata": {},
     "output_type": "display_data"
    }
   ],
   "source": [
    "plt.figure(figsize=(15,4))\n",
    "sns.distplot(df.age);"
   ]
  },
  {
   "cell_type": "markdown",
   "metadata": {},
   "source": [
    "Number of patients below 40 is very low and the heighest at 55. "
   ]
  },
  {
   "cell_type": "code",
   "execution_count": 32,
   "metadata": {},
   "outputs": [
    {
     "data": {
      "image/png": "[encoded data removed]",
      "text/plain": [
       "<Figure size 1080x288 with 1 Axes>"
      ]
     },
     "metadata": {},
     "output_type": "display_data"
    }
   ],
   "source": [
    "plt.figure(figsize=(15,4))\n",
    "sns.countplot(x='gender',data=df,hue='smoke');"
   ]
  },
  {
   "cell_type": "markdown",
   "metadata": {},
   "source": [
    "Males smokers are more than females"
   ]
  },
  {
   "cell_type": "code",
   "execution_count": 33,
   "metadata": {},
   "outputs": [
    {
     "data": {
      "image/png": "[encoded data removed]",
      "text/plain": [
       "<Figure size 1080x288 with 1 Axes>"
      ]
     },
     "metadata": {},
     "output_type": "display_data"
    }
   ],
   "source": [
    "plt.figure(figsize=(15,4))\n",
    "sns.countplot(x='gender',data=df,hue='alco');"
   ]
  },
  {
   "cell_type": "markdown",
   "metadata": {},
   "source": [
    "Males consume alcohol frequently than females"
   ]
  },
  {
   "cell_type": "code",
   "execution_count": 34,
   "metadata": {},
   "outputs": [
    {
     "data": {
      "image/png": "[encoded data removed]",
      "text/plain": [
       "<Figure size 1080x288 with 1 Axes>"
      ]
     },
     "metadata": {},
     "output_type": "display_data"
    }
   ],
   "source": [
    "plt.figure(figsize=(15,4))\n",
    "sns.countplot(x='smoke',data=df,hue='cardio');"
   ]
  },
  {
   "cell_type": "markdown",
   "metadata": {},
   "source": [
    "Disease and no disease numbers are balanced in smoke data"
   ]
  },
  {
   "cell_type": "code",
   "execution_count": 35,
   "metadata": {},
   "outputs": [
    {
     "data": {
      "image/png": "[encoded data removed]",
      "text/plain": [
       "<Figure size 1800x288 with 1 Axes>"
      ]
     },
     "metadata": {},
     "output_type": "display_data"
    }
   ],
   "source": [
    "tempdf=df\n",
    "tempdf=tempdf.round({\"age\":0})\n",
    "plt.figure(figsize=(25,4))\n",
    "chart=sns.countplot(x='age',data=tempdf,hue='cardio')\n",
    "chart.set_xticklabels(chart.get_xticklabels(), rotation=90);"
   ]
  },
  {
   "cell_type": "markdown",
   "metadata": {},
   "source": [
    "More patients reported with the disease at the age of 55 and continue to outpace no disease numbers as age progress."
   ]
  },
  {
   "cell_type": "markdown",
   "metadata": {},
   "source": [
    "## Machine Learning for Prediction"
   ]
  },
  {
   "cell_type": "code",
   "execution_count": 36,
   "metadata": {},
   "outputs": [],
   "source": [
    "from sklearn.metrics import confusion_matrix, classification_report, accuracy_score\n",
    "from sklearn.ensemble import RandomForestClassifier\n",
    "from sklearn import svm, linear_model\n",
    "from sklearn.model_selection import train_test_split,GridSearchCV\n",
    "from sklearn.preprocessing import StandardScaler\n",
    "from sklearn import preprocessing\n",
    "from sklearn.pipeline import Pipeline\n",
    "from sklearn.metrics import roc_auc_score\n",
    "from sklearn.metrics import roc_curve, auc\n"
   ]
  },
  {
   "cell_type": "code",
   "execution_count": 37,
   "metadata": {},
   "outputs": [
    {
     "data": {
      "text/plain": [
       "Index(['age', 'gender', 'height', 'weight', 'ap_hi', 'ap_lo', 'cholesterol',\n",
       "       'gluc', 'smoke', 'alco', 'active', 'cardio'],\n",
       "      dtype='object')"
      ]
     },
     "execution_count": 37,
     "metadata": {},
     "output_type": "execute_result"
    }
   ],
   "source": [
    "cols=df.columns\n",
    "cols"
   ]
  },
  {
   "cell_type": "code",
   "execution_count": 75,
   "metadata": {},
   "outputs": [],
   "source": [
    "X=df[cols[:-1]]\n",
    "y=df[[cols[-1]]]"
   ]
  },
  {
   "cell_type": "code",
   "execution_count": 39,
   "metadata": {},
   "outputs": [
    {
     "name": "stdout",
     "output_type": "stream",
     "text": [
      "(68620, 11)\n",
      "(68620, 1)\n"
     ]
    }
   ],
   "source": [
    "print(X.shape)\n",
    "print(y.shape)"
   ]
  },
  {
   "cell_type": "code",
   "execution_count": 40,
   "metadata": {},
   "outputs": [],
   "source": [
    "X_train, X_test, y_train, y_test = train_test_split(X,\n",
    "                                                    y,\n",
    "                                                    test_size=0.3,\n",
    "                                                    random_state=42,\n",
    "                                                    stratify=y)"
   ]
  },
  {
   "cell_type": "code",
   "execution_count": 41,
   "metadata": {},
   "outputs": [
    {
     "name": "stdout",
     "output_type": "stream",
     "text": [
      "(48034, 11)\n",
      "(48034, 1)\n",
      "(20586, 11)\n",
      "(20586, 1)\n"
     ]
    }
   ],
   "source": [
    "print(X_train.shape)\n",
    "print(y_train.shape)\n",
    "print(X_test.shape)\n",
    "print(y_test.shape)"
   ]
  },
  {
   "cell_type": "code",
   "execution_count": 62,
   "metadata": {},
   "outputs": [
    {
     "name": "stderr",
     "output_type": "stream",
     "text": [
      "C:\\Users\\Thelee\\Anaconda3\\lib\\site-packages\\sklearn\\preprocessing\\data.py:645: DataConversionWarning: Data with input dtype int64, float64 were all converted to float64 by StandardScaler.\n",
      "  return self.partial_fit(X, y)\n",
      "C:\\Users\\Thelee\\Anaconda3\\lib\\site-packages\\sklearn\\base.py:467: DataConversionWarning: Data with input dtype int64, float64 were all converted to float64 by StandardScaler.\n",
      "  return self.fit(X, y, **fit_params).transform(X)\n",
      "C:\\Users\\Thelee\\Anaconda3\\lib\\site-packages\\sklearn\\pipeline.py:267: DataConversionWarning: A column-vector y was passed when a 1d array was expected. Please change the shape of y to (n_samples,), for example using ravel().\n",
      "  self._final_estimator.fit(Xt, y, **fit_params)\n"
     ]
    },
    {
     "name": "stdout",
     "output_type": "stream",
     "text": [
      "{'memory': None, 'steps': [('scaler', StandardScaler(copy=True, with_mean=True, with_std=True)), ('model', RandomForestClassifier(bootstrap=True, class_weight=None, criterion='gini',\n",
      "            max_depth=10, max_features='auto', max_leaf_nodes=None,\n",
      "            min_impurity_decrease=0.0, min_impurity_split=None,\n",
      "            min_samples_leaf=1, min_samples_split=2,\n",
      "            min_weight_fraction_leaf=0.0, n_estimators=300, n_jobs=None,\n",
      "            oob_score=False, random_state=None, verbose=0,\n",
      "            warm_start=False))], 'scaler': StandardScaler(copy=True, with_mean=True, with_std=True), 'model': RandomForestClassifier(bootstrap=True, class_weight=None, criterion='gini',\n",
      "            max_depth=10, max_features='auto', max_leaf_nodes=None,\n",
      "            min_impurity_decrease=0.0, min_impurity_split=None,\n",
      "            min_samples_leaf=1, min_samples_split=2,\n",
      "            min_weight_fraction_leaf=0.0, n_estimators=300, n_jobs=None,\n",
      "            oob_score=False, random_state=None, verbose=0,\n",
      "            warm_start=False), 'scaler__copy': True, 'scaler__with_mean': True, 'scaler__with_std': True, 'model__bootstrap': True, 'model__class_weight': None, 'model__criterion': 'gini', 'model__max_depth': 10, 'model__max_features': 'auto', 'model__max_leaf_nodes': None, 'model__min_impurity_decrease': 0.0, 'model__min_impurity_split': None, 'model__min_samples_leaf': 1, 'model__min_samples_split': 2, 'model__min_weight_fraction_leaf': 0.0, 'model__n_estimators': 300, 'model__n_jobs': None, 'model__oob_score': False, 'model__random_state': None, 'model__verbose': 0, 'model__warm_start': False}\n"
     ]
    },
    {
     "name": "stderr",
     "output_type": "stream",
     "text": [
      "C:\\Users\\Thelee\\Anaconda3\\lib\\site-packages\\sklearn\\pipeline.py:331: DataConversionWarning: Data with input dtype int64, float64 were all converted to float64 by StandardScaler.\n",
      "  Xt = transform.transform(Xt)\n"
     ]
    },
    {
     "name": "stdout",
     "output_type": "stream",
     "text": [
      "              precision    recall  f1-score   support\n",
      "\n",
      "           0       0.72      0.79      0.75     10402\n",
      "           1       0.76      0.68      0.72     10184\n",
      "\n",
      "   micro avg       0.74      0.74      0.74     20586\n",
      "   macro avg       0.74      0.73      0.73     20586\n",
      "weighted avg       0.74      0.74      0.73     20586\n",
      "\n"
     ]
    },
    {
     "name": "stderr",
     "output_type": "stream",
     "text": [
      "C:\\Users\\Thelee\\Anaconda3\\lib\\site-packages\\sklearn\\pipeline.py:511: DataConversionWarning: Data with input dtype int64, float64 were all converted to float64 by StandardScaler.\n",
      "  Xt = transform.transform(Xt)\n",
      "C:\\Users\\Thelee\\Anaconda3\\lib\\site-packages\\sklearn\\pipeline.py:511: DataConversionWarning: Data with input dtype int64, float64 were all converted to float64 by StandardScaler.\n",
      "  Xt = transform.transform(Xt)\n"
     ]
    },
    {
     "name": "stdout",
     "output_type": "stream",
     "text": [
      "0.7572136403380938\n",
      "0.7351598173515982\n",
      "Wall time: 42min 31s\n"
     ]
    }
   ],
   "source": [
    "%%time\n",
    "# Random Forest Classifier training and grid search\n",
    "#parameter range to be searched for best parameters\n",
    "params={'model__n_estimators': [100, 150, 200,250,300,350,400,450,500],\n",
    "       'model__max_depth': [None, 1, 2, 3, 4, 5,6,7,8,9,10,11,12,13,14,15,16,17,18,19,20]}\n",
    "pipeline = Pipeline([('scaler', StandardScaler()),('model',RandomForestClassifier())])\n",
    "grid = GridSearchCV(pipeline, cv=5, n_jobs=-1, param_grid=params)\n",
    "grid.fit(X_train, y_train) #fit to GridSearchCV \n",
    "best_param=grid.best_estimator_.get_params()\n",
    "print(best_param)\n",
    "with open ('rfc_model.plk','wb') as f:\n",
    "        pickle.dump(grid.best_estimator_,f)\n",
    "predict=grid.predict(X_test)\n"
   ]
  },
  {
   "cell_type": "code",
   "execution_count": 86,
   "metadata": {},
   "outputs": [
    {
     "name": "stderr",
     "output_type": "stream",
     "text": [
      "C:\\Users\\Thelee\\Anaconda3\\lib\\site-packages\\sklearn\\pipeline.py:381: DataConversionWarning: Data with input dtype int64, float64 were all converted to float64 by StandardScaler.\n",
      "  Xt = transform.transform(Xt)\n"
     ]
    },
    {
     "data": {
      "image/png": "[encoded data removed]",
      "text/plain": [
       "<Figure size 576x396 with 1 Axes>"
      ]
     },
     "metadata": {},
     "output_type": "display_data"
    },
    {
     "name": "stdout",
     "output_type": "stream",
     "text": [
      "              precision    recall  f1-score   support\n",
      "\n",
      "           0       0.72      0.79      0.75     10402\n",
      "           1       0.76      0.68      0.72     10184\n",
      "\n",
      "   micro avg       0.74      0.74      0.74     20586\n",
      "   macro avg       0.74      0.73      0.73     20586\n",
      "weighted avg       0.74      0.74      0.73     20586\n",
      "\n"
     ]
    },
    {
     "name": "stderr",
     "output_type": "stream",
     "text": [
      "C:\\Users\\Thelee\\Anaconda3\\lib\\site-packages\\sklearn\\pipeline.py:511: DataConversionWarning: Data with input dtype int64, float64 were all converted to float64 by StandardScaler.\n",
      "  Xt = transform.transform(Xt)\n",
      "C:\\Users\\Thelee\\Anaconda3\\lib\\site-packages\\sklearn\\pipeline.py:511: DataConversionWarning: Data with input dtype int64, float64 were all converted to float64 by StandardScaler.\n",
      "  Xt = transform.transform(Xt)\n"
     ]
    },
    {
     "name": "stdout",
     "output_type": "stream",
     "text": [
      "0.7572136403380938\n",
      "0.7351598173515982\n"
     ]
    }
   ],
   "source": [
    "# Compute ROC curve and ROC area for each class\n",
    "y_score = grid.predict_proba(X_test)\n",
    "#roc(y_score, y_test)\n",
    "y_score = y_score[:, 1]\n",
    "ns_probs = [0 for _ in range(len(y_test))]\n",
    "rfc_auc = roc_auc_score(y_test, y_score)\n",
    "ns_fpr, ns_tpr, _ = roc_curve(y_test, ns_probs)\n",
    "rfc_fpr, rfc_tpr, _ = roc_curve(y_test, y_score)\n",
    "plt.plot(ns_fpr, ns_tpr, linestyle='--', label='No Skill')\n",
    "plt.plot(rfc_fpr, rfc_tpr, marker='.', label='Logistic')\n",
    "plt.xlabel('False Positive Rate')\n",
    "plt.ylabel('True Positive Rate')\n",
    "plt.legend()\n",
    "plt.show()\n",
    "cr=classification_report(y_test,predict)\n",
    "print(cr)\n",
    "score_train=grid.score(X_train, y_train)\n",
    "score_test=grid.score(X_test, y_test)\n",
    "print(score_train)\n",
    "print(score_test)"
   ]
  },
  {
   "cell_type": "markdown",
   "metadata": {},
   "source": [
    "**Machine Learning accuracy to predict the disease is around 75%**"
   ]
  },
  {
   "cell_type": "markdown",
   "metadata": {},
   "source": [
    "## Deep Learning for Prediction\n"
   ]
  },
  {
   "cell_type": "code",
   "execution_count": 43,
   "metadata": {},
   "outputs": [
    {
     "name": "stderr",
     "output_type": "stream",
     "text": [
      "C:\\Users\\Thelee\\Anaconda3\\lib\\site-packages\\tensorflow\\python\\framework\\dtypes.py:516: FutureWarning: Passing (type, 1) or '1type' as a synonym of type is deprecated; in a future version of numpy, it will be understood as (type, (1,)) / '(1,)type'.\n",
      "  _np_qint8 = np.dtype([(\"qint8\", np.int8, 1)])\n",
      "C:\\Users\\Thelee\\Anaconda3\\lib\\site-packages\\tensorflow\\python\\framework\\dtypes.py:517: FutureWarning: Passing (type, 1) or '1type' as a synonym of type is deprecated; in a future version of numpy, it will be understood as (type, (1,)) / '(1,)type'.\n",
      "  _np_quint8 = np.dtype([(\"quint8\", np.uint8, 1)])\n",
      "C:\\Users\\Thelee\\Anaconda3\\lib\\site-packages\\tensorflow\\python\\framework\\dtypes.py:518: FutureWarning: Passing (type, 1) or '1type' as a synonym of type is deprecated; in a future version of numpy, it will be understood as (type, (1,)) / '(1,)type'.\n",
      "  _np_qint16 = np.dtype([(\"qint16\", np.int16, 1)])\n",
      "C:\\Users\\Thelee\\Anaconda3\\lib\\site-packages\\tensorflow\\python\\framework\\dtypes.py:519: FutureWarning: Passing (type, 1) or '1type' as a synonym of type is deprecated; in a future version of numpy, it will be understood as (type, (1,)) / '(1,)type'.\n",
      "  _np_quint16 = np.dtype([(\"quint16\", np.uint16, 1)])\n",
      "C:\\Users\\Thelee\\Anaconda3\\lib\\site-packages\\tensorflow\\python\\framework\\dtypes.py:520: FutureWarning: Passing (type, 1) or '1type' as a synonym of type is deprecated; in a future version of numpy, it will be understood as (type, (1,)) / '(1,)type'.\n",
      "  _np_qint32 = np.dtype([(\"qint32\", np.int32, 1)])\n",
      "C:\\Users\\Thelee\\Anaconda3\\lib\\site-packages\\tensorflow\\python\\framework\\dtypes.py:525: FutureWarning: Passing (type, 1) or '1type' as a synonym of type is deprecated; in a future version of numpy, it will be understood as (type, (1,)) / '(1,)type'.\n",
      "  np_resource = np.dtype([(\"resource\", np.ubyte, 1)])\n"
     ]
    }
   ],
   "source": [
    "import tensorflow as tf\n",
    "from tensorflow import feature_column as feature_column\n",
    "from tensorflow.keras import layers"
   ]
  },
  {
   "cell_type": "code",
   "execution_count": 44,
   "metadata": {},
   "outputs": [
    {
     "name": "stdout",
     "output_type": "stream",
     "text": [
      "<class 'pandas.core.frame.DataFrame'>\n",
      "Int64Index: 68620 entries, 0 to 69999\n",
      "Data columns (total 12 columns):\n",
      "age            68620 non-null float64\n",
      "gender         68620 non-null int64\n",
      "height         68620 non-null int64\n",
      "weight         68620 non-null float64\n",
      "ap_hi          68620 non-null int64\n",
      "ap_lo          68620 non-null int64\n",
      "cholesterol    68620 non-null int64\n",
      "gluc           68620 non-null int64\n",
      "smoke          68620 non-null int64\n",
      "alco           68620 non-null int64\n",
      "active         68620 non-null int64\n",
      "cardio         68620 non-null int64\n",
      "dtypes: float64(2), int64(10)\n",
      "memory usage: 9.3 MB\n"
     ]
    }
   ],
   "source": [
    "df.info()"
   ]
  },
  {
   "cell_type": "code",
   "execution_count": 45,
   "metadata": {},
   "outputs": [
    {
     "name": "stdout",
     "output_type": "stream",
     "text": [
      "<class 'pandas.core.frame.DataFrame'>\n",
      "RangeIndex: 68620 entries, 0 to 68619\n",
      "Data columns (total 12 columns):\n",
      "age            68620 non-null float64\n",
      "gender         68620 non-null int64\n",
      "height         68620 non-null int64\n",
      "weight         68620 non-null float64\n",
      "ap_hi          68620 non-null int64\n",
      "ap_lo          68620 non-null int64\n",
      "cholesterol    68620 non-null int64\n",
      "gluc           68620 non-null int64\n",
      "smoke          68620 non-null int64\n",
      "alco           68620 non-null int64\n",
      "active         68620 non-null int64\n",
      "cardio         68620 non-null int64\n",
      "dtypes: float64(2), int64(10)\n",
      "memory usage: 6.3 MB\n"
     ]
    }
   ],
   "source": [
    "df.reset_index(drop=True, inplace=True)\n",
    "df.info()"
   ]
  },
  {
   "cell_type": "code",
   "execution_count": 46,
   "metadata": {},
   "outputs": [],
   "source": [
    "# A utility method to create a tf.data dataset from a Pandas Dataframe\n",
    "def df_to_dataset(dataframe, shuffle=True, batch_size=32):\n",
    "    dataframe = dataframe.copy()\n",
    "    labels = dataframe.pop('cardio')\n",
    "    ds = tf.data.Dataset.from_tensor_slices((dict(dataframe), labels))\n",
    "    if shuffle:\n",
    "        ds = ds.shuffle(buffer_size=len(dataframe))\n",
    "    ds = ds.batch(batch_size)\n",
    "    return ds"
   ]
  },
  {
   "cell_type": "code",
   "execution_count": 47,
   "metadata": {},
   "outputs": [
    {
     "name": "stdout",
     "output_type": "stream",
     "text": [
      "43916 train examples\n",
      "10980 validation examples\n",
      "13724 test examples\n"
     ]
    }
   ],
   "source": [
    "train, test = train_test_split(df, test_size=0.2)\n",
    "train, val = train_test_split(train, test_size=0.2)\n",
    "print(len(train), 'train examples')\n",
    "print(len(val), 'validation examples')\n",
    "print(len(test), 'test examples')"
   ]
  },
  {
   "cell_type": "code",
   "execution_count": 49,
   "metadata": {},
   "outputs": [],
   "source": [
    "age = feature_column.numeric_column(\"age\")\n",
    "height = feature_column.numeric_column(\"height\")\n",
    "weight = feature_column.numeric_column(\"weight\")\n",
    "ap_hi = feature_column.numeric_column(\"ap_hi\")\n",
    "ap_lo = feature_column.numeric_column(\"ap_lo\")\n",
    "gender = feature_column.categorical_column_with_vocabulary_list('gender', [1,2])\n",
    "cholesterol = feature_column.categorical_column_with_vocabulary_list('cholesterol', [1,2,3])\n",
    "gluc = feature_column.categorical_column_with_vocabulary_list('gluc', [1,2,3])\n",
    "smoke = feature_column.categorical_column_with_vocabulary_list('smoke', [0, 1])\n",
    "alco = feature_column.categorical_column_with_vocabulary_list('alco', [0, 1])\n",
    "active = feature_column.categorical_column_with_vocabulary_list('active', [0, 1])"
   ]
  },
  {
   "cell_type": "code",
   "execution_count": 52,
   "metadata": {},
   "outputs": [],
   "source": [
    "col_list=df.columns\n",
    "age_buc=list(range(30,71))\n",
    "feature_columns = []\n",
    "for header in col_list[:-1]:\n",
    "    feature_columns.append(feature_column.numeric_column(header))\n",
    "\n",
    "age_buckets = feature_column.bucketized_column(age, boundaries=age_buc)\n",
    "feature_columns.append(age_buckets)"
   ]
  },
  {
   "cell_type": "code",
   "execution_count": 53,
   "metadata": {},
   "outputs": [
    {
     "data": {
      "text/plain": [
       "[NumericColumn(key='age', shape=(1,), default_value=None, dtype=tf.float32, normalizer_fn=None),\n",
       " NumericColumn(key='gender', shape=(1,), default_value=None, dtype=tf.float32, normalizer_fn=None),\n",
       " NumericColumn(key='height', shape=(1,), default_value=None, dtype=tf.float32, normalizer_fn=None),\n",
       " NumericColumn(key='weight', shape=(1,), default_value=None, dtype=tf.float32, normalizer_fn=None),\n",
       " NumericColumn(key='ap_hi', shape=(1,), default_value=None, dtype=tf.float32, normalizer_fn=None),\n",
       " NumericColumn(key='ap_lo', shape=(1,), default_value=None, dtype=tf.float32, normalizer_fn=None),\n",
       " NumericColumn(key='cholesterol', shape=(1,), default_value=None, dtype=tf.float32, normalizer_fn=None),\n",
       " NumericColumn(key='gluc', shape=(1,), default_value=None, dtype=tf.float32, normalizer_fn=None),\n",
       " NumericColumn(key='smoke', shape=(1,), default_value=None, dtype=tf.float32, normalizer_fn=None),\n",
       " NumericColumn(key='alco', shape=(1,), default_value=None, dtype=tf.float32, normalizer_fn=None),\n",
       " NumericColumn(key='active', shape=(1,), default_value=None, dtype=tf.float32, normalizer_fn=None),\n",
       " BucketizedColumn(source_column=NumericColumn(key='age', shape=(1,), default_value=None, dtype=tf.float32, normalizer_fn=None), boundaries=(30, 31, 32, 33, 34, 35, 36, 37, 38, 39, 40, 41, 42, 43, 44, 45, 46, 47, 48, 49, 50, 51, 52, 53, 54, 55, 56, 57, 58, 59, 60, 61, 62, 63, 64, 65, 66, 67, 68, 69, 70))]"
      ]
     },
     "execution_count": 53,
     "metadata": {},
     "output_type": "execute_result"
    }
   ],
   "source": [
    "feature_columns"
   ]
  },
  {
   "cell_type": "code",
   "execution_count": 54,
   "metadata": {},
   "outputs": [],
   "source": [
    "batch_size = 32\n",
    "train_ds = df_to_dataset(train, batch_size=batch_size)\n",
    "val_ds = df_to_dataset(val, shuffle=False, batch_size=batch_size)\n",
    "test_ds = df_to_dataset(test, shuffle=False, batch_size=batch_size)"
   ]
  },
  {
   "cell_type": "code",
   "execution_count": 59,
   "metadata": {},
   "outputs": [],
   "source": [
    "feature_layer = tf.keras.layers.DenseFeatures(feature_columns)"
   ]
  },
  {
   "cell_type": "code",
   "execution_count": 92,
   "metadata": {
    "scrolled": false
   },
   "outputs": [
    {
     "name": "stdout",
     "output_type": "stream",
     "text": [
      "Epoch 1/200\n",
      "1373/1373 [==============================] - 6s 4ms/step - loss: 0.6581 - acc: 0.6622 - val_loss: 0.6405 - val_acc: 0.6350\n",
      "Epoch 2/200\n",
      "1373/1373 [==============================] - 6s 4ms/step - loss: 0.6013 - acc: 0.6832 - val_loss: 0.6470 - val_acc: 0.7011\n",
      "Epoch 3/200\n",
      "1373/1373 [==============================] - 7s 5ms/step - loss: 0.5846 - acc: 0.6912 - val_loss: 0.5693 - val_acc: 0.7185\n",
      "Epoch 4/200\n",
      "1373/1373 [==============================] - 8s 6ms/step - loss: 0.5728 - acc: 0.7024 - val_loss: 0.5658 - val_acc: 0.7083\n",
      "Epoch 5/200\n",
      "1373/1373 [==============================] - 8s 6ms/step - loss: 0.5690 - acc: 0.7043 - val_loss: 0.5631 - val_acc: 0.7017\n",
      "Epoch 6/200\n",
      "1373/1373 [==============================] - 7s 5ms/step - loss: 0.5684 - acc: 0.7048 - val_loss: 0.6015 - val_acc: 0.7144\n",
      "Epoch 7/200\n",
      "1373/1373 [==============================] - 7s 5ms/step - loss: 0.5657 - acc: 0.7059 - val_loss: 0.5638 - val_acc: 0.7189\n",
      "Epoch 8/200\n",
      "1373/1373 [==============================] - 7s 5ms/step - loss: 0.5638 - acc: 0.7092 - val_loss: 0.5728 - val_acc: 0.6857\n",
      "Epoch 9/200\n",
      "1373/1373 [==============================] - 7s 5ms/step - loss: 0.5632 - acc: 0.7081 - val_loss: 0.5593 - val_acc: 0.7202\n",
      "Epoch 10/200\n",
      "1373/1373 [==============================] - 7s 5ms/step - loss: 0.5625 - acc: 0.7090 - val_loss: 0.5629 - val_acc: 0.7075\n",
      "Epoch 11/200\n",
      "1373/1373 [==============================] - 7s 5ms/step - loss: 0.5603 - acc: 0.7106 - val_loss: 0.5687 - val_acc: 0.6977\n",
      "Epoch 12/200\n",
      "1373/1373 [==============================] - 7s 5ms/step - loss: 0.5610 - acc: 0.7097 - val_loss: 0.5590 - val_acc: 0.7180\n",
      "Epoch 13/200\n",
      "1373/1373 [==============================] - 7s 5ms/step - loss: 0.5594 - acc: 0.7115 - val_loss: 0.5643 - val_acc: 0.6913\n",
      "Epoch 14/200\n",
      "1373/1373 [==============================] - 7s 5ms/step - loss: 0.5586 - acc: 0.7119 - val_loss: 0.5582 - val_acc: 0.7182\n",
      "Epoch 15/200\n",
      "1373/1373 [==============================] - 7s 5ms/step - loss: 0.5581 - acc: 0.7132 - val_loss: 0.5592 - val_acc: 0.7202\n",
      "Epoch 16/200\n",
      "1373/1373 [==============================] - 7s 5ms/step - loss: 0.5586 - acc: 0.7112 - val_loss: 0.5559 - val_acc: 0.7121\n",
      "Epoch 17/200\n",
      "1373/1373 [==============================] - 7s 5ms/step - loss: 0.5576 - acc: 0.7137 - val_loss: 0.5572 - val_acc: 0.7194\n",
      "Epoch 18/200\n",
      "1373/1373 [==============================] - 7s 5ms/step - loss: 0.5566 - acc: 0.7135 - val_loss: 0.5617 - val_acc: 0.7178\n",
      "Epoch 19/200\n",
      "1373/1373 [==============================] - 7s 5ms/step - loss: 0.5562 - acc: 0.7139 - val_loss: 0.5897 - val_acc: 0.7190\n",
      "Epoch 20/200\n",
      "1373/1373 [==============================] - 7s 5ms/step - loss: 0.5563 - acc: 0.7146 - val_loss: 0.5598 - val_acc: 0.7125\n",
      "Epoch 21/200\n",
      "1373/1373 [==============================] - 7s 5ms/step - loss: 0.5563 - acc: 0.7155 - val_loss: 0.5647 - val_acc: 0.6996\n",
      "Epoch 22/200\n",
      "1373/1373 [==============================] - 7s 5ms/step - loss: 0.5550 - acc: 0.7152 - val_loss: 0.5657 - val_acc: 0.6977\n",
      "Epoch 23/200\n",
      "1373/1373 [==============================] - 7s 5ms/step - loss: 0.5558 - acc: 0.7135 - val_loss: 0.5551 - val_acc: 0.7192\n",
      "Epoch 24/200\n",
      "1373/1373 [==============================] - 7s 5ms/step - loss: 0.5553 - acc: 0.7150 - val_loss: 0.5546 - val_acc: 0.7122\n",
      "Epoch 25/200\n",
      "1373/1373 [==============================] - 7s 5ms/step - loss: 0.5546 - acc: 0.7146 - val_loss: 0.5544 - val_acc: 0.7118\n",
      "Epoch 26/200\n",
      "1373/1373 [==============================] - 7s 5ms/step - loss: 0.5544 - acc: 0.7162 - val_loss: 0.5624 - val_acc: 0.7000\n",
      "Epoch 27/200\n",
      "1373/1373 [==============================] - 7s 5ms/step - loss: 0.5542 - acc: 0.7140 - val_loss: 0.5622 - val_acc: 0.7237\n",
      "Epoch 28/200\n",
      "1373/1373 [==============================] - 8s 6ms/step - loss: 0.5547 - acc: 0.7150 - val_loss: 0.5641 - val_acc: 0.7117\n",
      "Epoch 29/200\n",
      "1373/1373 [==============================] - 7s 5ms/step - loss: 0.5550 - acc: 0.7150 - val_loss: 0.5525 - val_acc: 0.7164\n",
      "Epoch 30/200\n",
      "1373/1373 [==============================] - 7s 5ms/step - loss: 0.5548 - acc: 0.7149 - val_loss: 0.5557 - val_acc: 0.7252\n",
      "Epoch 31/200\n",
      "1373/1373 [==============================] - 7s 5ms/step - loss: 0.5543 - acc: 0.7156 - val_loss: 0.5539 - val_acc: 0.7086\n",
      "Epoch 32/200\n",
      "1373/1373 [==============================] - 7s 5ms/step - loss: 0.5534 - acc: 0.7149 - val_loss: 0.5700 - val_acc: 0.6811\n",
      "Epoch 33/200\n",
      "1373/1373 [==============================] - 8s 6ms/step - loss: 0.5534 - acc: 0.7165 - val_loss: 0.5595 - val_acc: 0.7277\n",
      "Epoch 34/200\n",
      "1373/1373 [==============================] - 8s 6ms/step - loss: 0.5528 - acc: 0.7154 - val_loss: 0.5538 - val_acc: 0.7179\n",
      "Epoch 35/200\n",
      "1373/1373 [==============================] - 7s 5ms/step - loss: 0.5529 - acc: 0.7171 - val_loss: 0.5576 - val_acc: 0.7105\n",
      "Epoch 36/200\n",
      "1373/1373 [==============================] - 8s 5ms/step - loss: 0.5517 - acc: 0.7168 - val_loss: 0.5575 - val_acc: 0.7245\n",
      "Epoch 37/200\n",
      "1373/1373 [==============================] - 7s 5ms/step - loss: 0.5525 - acc: 0.7163 - val_loss: 0.5506 - val_acc: 0.7181\n",
      "Epoch 38/200\n",
      "1373/1373 [==============================] - 7s 5ms/step - loss: 0.5516 - acc: 0.7171 - val_loss: 0.5533 - val_acc: 0.7071\n",
      "Epoch 39/200\n",
      "1373/1373 [==============================] - 7s 5ms/step - loss: 0.5520 - acc: 0.7178 - val_loss: 0.5642 - val_acc: 0.6983\n",
      "Epoch 40/200\n",
      "1373/1373 [==============================] - 7s 5ms/step - loss: 0.5524 - acc: 0.7175 - val_loss: 0.5515 - val_acc: 0.7176\n",
      "Epoch 41/200\n",
      "1373/1373 [==============================] - 7s 5ms/step - loss: 0.5514 - acc: 0.7177 - val_loss: 0.5536 - val_acc: 0.7238\n",
      "Epoch 42/200\n",
      "1373/1373 [==============================] - 7s 5ms/step - loss: 0.5519 - acc: 0.7156 - val_loss: 0.5525 - val_acc: 0.7185\n",
      "Epoch 43/200\n",
      "1373/1373 [==============================] - 7s 5ms/step - loss: 0.5525 - acc: 0.7164 - val_loss: 0.5572 - val_acc: 0.7148\n",
      "Epoch 44/200\n",
      "1373/1373 [==============================] - 7s 5ms/step - loss: 0.5525 - acc: 0.7185 - val_loss: 0.5506 - val_acc: 0.7134\n",
      "Epoch 45/200\n",
      "1373/1373 [==============================] - 7s 5ms/step - loss: 0.5512 - acc: 0.7167 - val_loss: 0.5701 - val_acc: 0.7276\n",
      "Epoch 46/200\n",
      "1373/1373 [==============================] - 7s 5ms/step - loss: 0.5511 - acc: 0.7168 - val_loss: 0.5605 - val_acc: 0.6924\n",
      "Epoch 47/200\n",
      "1373/1373 [==============================] - 7s 5ms/step - loss: 0.5519 - acc: 0.7163 - val_loss: 0.5521 - val_acc: 0.7193\n",
      "Epoch 48/200\n",
      "1373/1373 [==============================] - 7s 5ms/step - loss: 0.5516 - acc: 0.7169 - val_loss: 0.5541 - val_acc: 0.7192\n",
      "Epoch 49/200\n",
      "1373/1373 [==============================] - 8s 5ms/step - loss: 0.5516 - acc: 0.7180 - val_loss: 0.5578 - val_acc: 0.7019\n",
      "Epoch 50/200\n",
      "1373/1373 [==============================] - 8s 6ms/step - loss: 0.5509 - acc: 0.7175 - val_loss: 0.5517 - val_acc: 0.7184\n",
      "Epoch 51/200\n",
      "1373/1373 [==============================] - 7s 5ms/step - loss: 0.5528 - acc: 0.7173 - val_loss: 0.5546 - val_acc: 0.7242\n",
      "Epoch 52/200\n",
      "1373/1373 [==============================] - 7s 5ms/step - loss: 0.5514 - acc: 0.7172 - val_loss: 0.5560 - val_acc: 0.7068\n",
      "Epoch 53/200\n",
      "1373/1373 [==============================] - 8s 6ms/step - loss: 0.5509 - acc: 0.7190 - val_loss: 0.5575 - val_acc: 0.7035\n",
      "Epoch 54/200\n",
      "1373/1373 [==============================] - 7s 5ms/step - loss: 0.5510 - acc: 0.7158 - val_loss: 0.5663 - val_acc: 0.7278\n",
      "Epoch 55/200\n",
      "1373/1373 [==============================] - 7s 5ms/step - loss: 0.5514 - acc: 0.7182 - val_loss: 0.5505 - val_acc: 0.7242\n",
      "Epoch 56/200\n",
      "1373/1373 [==============================] - 7s 5ms/step - loss: 0.5518 - acc: 0.7178 - val_loss: 0.5507 - val_acc: 0.7203\n",
      "Epoch 57/200\n",
      "1373/1373 [==============================] - 7s 5ms/step - loss: 0.5512 - acc: 0.7167 - val_loss: 0.5515 - val_acc: 0.7207\n",
      "Epoch 58/200\n",
      "1373/1373 [==============================] - 7s 5ms/step - loss: 0.5509 - acc: 0.7174 - val_loss: 0.5529 - val_acc: 0.7119\n",
      "Epoch 59/200\n",
      "1373/1373 [==============================] - 8s 6ms/step - loss: 0.5505 - acc: 0.7177 - val_loss: 0.5681 - val_acc: 0.7258\n",
      "Epoch 60/200\n",
      "1373/1373 [==============================] - 8s 6ms/step - loss: 0.5506 - acc: 0.7160 - val_loss: 0.5564 - val_acc: 0.7181\n",
      "Epoch 61/200\n"
     ]
    },
    {
     "name": "stdout",
     "output_type": "stream",
     "text": [
      "1373/1373 [==============================] - 8s 6ms/step - loss: 0.5506 - acc: 0.7171 - val_loss: 0.5497 - val_acc: 0.7200\n",
      "Epoch 62/200\n",
      "1373/1373 [==============================] - 8s 6ms/step - loss: 0.5497 - acc: 0.7188 - val_loss: 0.5568 - val_acc: 0.7162\n",
      "Epoch 63/200\n",
      "1373/1373 [==============================] - 7s 5ms/step - loss: 0.5497 - acc: 0.7177 - val_loss: 0.5505 - val_acc: 0.7196\n",
      "Epoch 64/200\n",
      "1373/1373 [==============================] - 7s 5ms/step - loss: 0.5505 - acc: 0.7188 - val_loss: 0.5554 - val_acc: 0.7279\n",
      "Epoch 65/200\n",
      "1373/1373 [==============================] - 7s 5ms/step - loss: 0.5489 - acc: 0.7196 - val_loss: 0.5495 - val_acc: 0.7230\n",
      "Epoch 66/200\n",
      "1373/1373 [==============================] - 7s 5ms/step - loss: 0.5499 - acc: 0.7176 - val_loss: 0.5557 - val_acc: 0.7124\n",
      "Epoch 67/200\n",
      "1373/1373 [==============================] - 7s 5ms/step - loss: 0.5499 - acc: 0.7176 - val_loss: 0.5507 - val_acc: 0.7241\n",
      "Epoch 68/200\n",
      "1373/1373 [==============================] - 7s 5ms/step - loss: 0.5502 - acc: 0.7168 - val_loss: 0.5614 - val_acc: 0.7301\n",
      "Epoch 69/200\n",
      "1373/1373 [==============================] - 7s 5ms/step - loss: 0.5493 - acc: 0.7183 - val_loss: 0.5510 - val_acc: 0.7189\n",
      "Epoch 70/200\n",
      "1373/1373 [==============================] - 7s 5ms/step - loss: 0.5494 - acc: 0.7183 - val_loss: 0.5507 - val_acc: 0.7185\n",
      "Epoch 71/200\n",
      "1373/1373 [==============================] - 7s 5ms/step - loss: 0.5493 - acc: 0.7201 - val_loss: 0.5508 - val_acc: 0.7132\n",
      "Epoch 72/200\n",
      "1373/1373 [==============================] - 7s 5ms/step - loss: 0.5501 - acc: 0.7164 - val_loss: 0.5521 - val_acc: 0.7132\n",
      "Epoch 73/200\n",
      "1373/1373 [==============================] - 7s 5ms/step - loss: 0.5504 - acc: 0.7178 - val_loss: 0.5591 - val_acc: 0.7087\n",
      "Epoch 74/200\n",
      "1373/1373 [==============================] - 7s 5ms/step - loss: 0.5496 - acc: 0.7181 - val_loss: 0.5582 - val_acc: 0.7246\n",
      "Epoch 75/200\n",
      "1373/1373 [==============================] - 7s 5ms/step - loss: 0.5499 - acc: 0.7182 - val_loss: 0.5514 - val_acc: 0.7145\n",
      "Epoch 76/200\n",
      "1373/1373 [==============================] - 7s 5ms/step - loss: 0.5489 - acc: 0.7189 - val_loss: 0.5507 - val_acc: 0.7234\n",
      "Epoch 77/200\n",
      "1373/1373 [==============================] - 7s 5ms/step - loss: 0.5494 - acc: 0.7178 - val_loss: 0.5524 - val_acc: 0.7251\n",
      "Epoch 78/200\n",
      "1373/1373 [==============================] - 7s 5ms/step - loss: 0.5497 - acc: 0.7188 - val_loss: 0.5481 - val_acc: 0.7200\n",
      "Epoch 79/200\n",
      "1373/1373 [==============================] - 7s 5ms/step - loss: 0.5488 - acc: 0.7186 - val_loss: 0.5504 - val_acc: 0.7144\n",
      "Epoch 80/200\n",
      "1373/1373 [==============================] - 7s 5ms/step - loss: 0.5497 - acc: 0.7180 - val_loss: 0.5564 - val_acc: 0.7148\n",
      "Epoch 81/200\n",
      "1373/1373 [==============================] - 7s 5ms/step - loss: 0.5492 - acc: 0.7178 - val_loss: 0.5540 - val_acc: 0.7270\n",
      "Epoch 82/200\n",
      "1373/1373 [==============================] - 7s 5ms/step - loss: 0.5497 - acc: 0.7184 - val_loss: 0.5758 - val_acc: 0.6885\n",
      "Epoch 83/200\n",
      "1373/1373 [==============================] - 7s 5ms/step - loss: 0.5498 - acc: 0.7184 - val_loss: 0.5541 - val_acc: 0.7126\n",
      "Epoch 84/200\n",
      "1373/1373 [==============================] - 9s 7ms/step - loss: 0.5488 - acc: 0.7191 - val_loss: 0.5494 - val_acc: 0.7216\n",
      "Epoch 85/200\n",
      "1373/1373 [==============================] - 8s 6ms/step - loss: 0.5496 - acc: 0.7186 - val_loss: 0.5521 - val_acc: 0.7128\n",
      "Epoch 86/200\n",
      "1373/1373 [==============================] - 7s 5ms/step - loss: 0.5486 - acc: 0.7189 - val_loss: 0.5507 - val_acc: 0.7137\n",
      "Epoch 87/200\n",
      "1373/1373 [==============================] - 7s 5ms/step - loss: 0.5488 - acc: 0.7191 - val_loss: 0.5518 - val_acc: 0.7150\n",
      "Epoch 88/200\n",
      "1373/1373 [==============================] - 8s 6ms/step - loss: 0.5490 - acc: 0.7192 - val_loss: 0.5524 - val_acc: 0.7113\n",
      "Epoch 89/200\n",
      "1373/1373 [==============================] - 7s 5ms/step - loss: 0.5489 - acc: 0.7190 - val_loss: 0.5483 - val_acc: 0.7185\n",
      "Epoch 90/200\n",
      "1373/1373 [==============================] - 7s 5ms/step - loss: 0.5495 - acc: 0.7188 - val_loss: 0.5591 - val_acc: 0.6988\n",
      "Epoch 91/200\n",
      "1373/1373 [==============================] - 7s 5ms/step - loss: 0.5485 - acc: 0.7188 - val_loss: 0.5557 - val_acc: 0.7044\n",
      "Epoch 92/200\n",
      "1373/1373 [==============================] - 7s 5ms/step - loss: 0.5492 - acc: 0.7173 - val_loss: 0.5492 - val_acc: 0.7184\n",
      "Epoch 93/200\n",
      "1373/1373 [==============================] - 7s 5ms/step - loss: 0.5488 - acc: 0.7185 - val_loss: 0.5515 - val_acc: 0.7204\n",
      "Epoch 94/200\n",
      "1373/1373 [==============================] - 7s 5ms/step - loss: 0.5484 - acc: 0.7202 - val_loss: 0.5493 - val_acc: 0.7145\n",
      "Epoch 95/200\n",
      "1373/1373 [==============================] - 7s 5ms/step - loss: 0.5491 - acc: 0.7187 - val_loss: 0.5494 - val_acc: 0.7226\n",
      "Epoch 96/200\n",
      "1373/1373 [==============================] - 7s 5ms/step - loss: 0.5482 - acc: 0.7171 - val_loss: 0.5507 - val_acc: 0.7209\n",
      "Epoch 97/200\n",
      "1373/1373 [==============================] - 8s 6ms/step - loss: 0.5483 - acc: 0.7188 - val_loss: 0.5503 - val_acc: 0.7198\n",
      "Epoch 98/200\n",
      "1373/1373 [==============================] - 7s 5ms/step - loss: 0.5485 - acc: 0.7180 - val_loss: 0.5513 - val_acc: 0.7164\n",
      "Epoch 99/200\n",
      "1373/1373 [==============================] - 7s 5ms/step - loss: 0.5485 - acc: 0.7168 - val_loss: 0.5527 - val_acc: 0.7077\n",
      "Epoch 100/200\n",
      "1373/1373 [==============================] - 7s 5ms/step - loss: 0.5484 - acc: 0.7193 - val_loss: 0.5500 - val_acc: 0.7143\n",
      "Epoch 101/200\n",
      "1373/1373 [==============================] - 8s 6ms/step - loss: 0.5478 - acc: 0.7199 - val_loss: 0.5517 - val_acc: 0.7222\n",
      "Epoch 102/200\n",
      "1373/1373 [==============================] - 7s 5ms/step - loss: 0.5486 - acc: 0.7182 - val_loss: 0.5531 - val_acc: 0.7085\n",
      "Epoch 103/200\n",
      "1373/1373 [==============================] - 7s 5ms/step - loss: 0.5478 - acc: 0.7181 - val_loss: 0.5588 - val_acc: 0.7267\n",
      "Epoch 104/200\n",
      "1373/1373 [==============================] - 7s 5ms/step - loss: 0.5486 - acc: 0.7194 - val_loss: 0.5497 - val_acc: 0.7163\n",
      "Epoch 105/200\n",
      "1373/1373 [==============================] - 7s 5ms/step - loss: 0.5478 - acc: 0.7182 - val_loss: 0.5564 - val_acc: 0.7019\n",
      "Epoch 106/200\n",
      "1373/1373 [==============================] - 7s 5ms/step - loss: 0.5486 - acc: 0.7190 - val_loss: 0.5539 - val_acc: 0.7136\n",
      "Epoch 107/200\n",
      "1373/1373 [==============================] - 7s 5ms/step - loss: 0.5481 - acc: 0.7197 - val_loss: 0.5512 - val_acc: 0.7174\n",
      "Epoch 108/200\n",
      "1373/1373 [==============================] - 7s 5ms/step - loss: 0.5477 - acc: 0.7181 - val_loss: 0.5702 - val_acc: 0.7304\n",
      "Epoch 109/200\n",
      "1373/1373 [==============================] - 8s 6ms/step - loss: 0.5478 - acc: 0.7201 - val_loss: 0.5505 - val_acc: 0.7168\n",
      "Epoch 110/200\n",
      "1373/1373 [==============================] - 8s 6ms/step - loss: 0.5473 - acc: 0.7185 - val_loss: 0.5498 - val_acc: 0.7215\n",
      "Epoch 111/200\n",
      "1373/1373 [==============================] - 7s 5ms/step - loss: 0.5481 - acc: 0.7189 - val_loss: 0.5505 - val_acc: 0.7193\n",
      "Epoch 112/200\n",
      "1373/1373 [==============================] - 7s 5ms/step - loss: 0.5476 - acc: 0.7182 - val_loss: 0.5514 - val_acc: 0.7260\n",
      "Epoch 113/200\n",
      "1373/1373 [==============================] - 7s 5ms/step - loss: 0.5484 - acc: 0.7189 - val_loss: 0.5498 - val_acc: 0.7187\n",
      "Epoch 114/200\n",
      "1373/1373 [==============================] - 7s 5ms/step - loss: 0.5481 - acc: 0.7176 - val_loss: 0.5530 - val_acc: 0.7075\n",
      "Epoch 115/200\n",
      "1373/1373 [==============================] - 7s 5ms/step - loss: 0.5479 - acc: 0.7188 - val_loss: 0.5526 - val_acc: 0.7152\n",
      "Epoch 116/200\n",
      "1373/1373 [==============================] - 7s 5ms/step - loss: 0.5478 - acc: 0.7199 - val_loss: 0.5509 - val_acc: 0.7132\n",
      "Epoch 117/200\n",
      "1373/1373 [==============================] - 7s 5ms/step - loss: 0.5480 - acc: 0.7187 - val_loss: 0.5504 - val_acc: 0.7186\n",
      "Epoch 118/200\n",
      "1373/1373 [==============================] - 7s 5ms/step - loss: 0.5469 - acc: 0.7201 - val_loss: 0.5530 - val_acc: 0.7087\n",
      "Epoch 119/200\n",
      "1373/1373 [==============================] - 7s 5ms/step - loss: 0.5477 - acc: 0.7175 - val_loss: 0.5559 - val_acc: 0.7274\n",
      "Epoch 120/200\n",
      "1373/1373 [==============================] - 7s 5ms/step - loss: 0.5469 - acc: 0.7183 - val_loss: 0.5588 - val_acc: 0.7300\n",
      "Epoch 121/200\n"
     ]
    },
    {
     "name": "stdout",
     "output_type": "stream",
     "text": [
      "1373/1373 [==============================] - 7s 5ms/step - loss: 0.5471 - acc: 0.7198 - val_loss: 0.5682 - val_acc: 0.6899\n",
      "Epoch 122/200\n",
      "1373/1373 [==============================] - 7s 5ms/step - loss: 0.5474 - acc: 0.7202 - val_loss: 0.5510 - val_acc: 0.7239\n",
      "Epoch 123/200\n",
      "1373/1373 [==============================] - 8s 5ms/step - loss: 0.5469 - acc: 0.7193 - val_loss: 0.5511 - val_acc: 0.7215\n",
      "Epoch 124/200\n",
      "1373/1373 [==============================] - 7s 5ms/step - loss: 0.5477 - acc: 0.7193 - val_loss: 0.5496 - val_acc: 0.7188\n",
      "Epoch 125/200\n",
      "1373/1373 [==============================] - 7s 5ms/step - loss: 0.5472 - acc: 0.7192 - val_loss: 0.5493 - val_acc: 0.7151\n",
      "Epoch 126/200\n",
      "1373/1373 [==============================] - 7s 5ms/step - loss: 0.5474 - acc: 0.7192 - val_loss: 0.5509 - val_acc: 0.7169\n",
      "Epoch 127/200\n",
      "1373/1373 [==============================] - 7s 5ms/step - loss: 0.5470 - acc: 0.7188 - val_loss: 0.5496 - val_acc: 0.7132\n",
      "Epoch 128/200\n",
      "1373/1373 [==============================] - 7s 5ms/step - loss: 0.5474 - acc: 0.7182 - val_loss: 0.5495 - val_acc: 0.7138\n",
      "Epoch 129/200\n",
      "1373/1373 [==============================] - 7s 5ms/step - loss: 0.5472 - acc: 0.7189 - val_loss: 0.5520 - val_acc: 0.7214\n",
      "Epoch 130/200\n",
      "1373/1373 [==============================] - 7s 5ms/step - loss: 0.5473 - acc: 0.7186 - val_loss: 0.5508 - val_acc: 0.7248\n",
      "Epoch 131/200\n",
      "1373/1373 [==============================] - 7s 5ms/step - loss: 0.5474 - acc: 0.7196 - val_loss: 0.5502 - val_acc: 0.7223\n",
      "Epoch 132/200\n",
      "1373/1373 [==============================] - 7s 5ms/step - loss: 0.5467 - acc: 0.7197 - val_loss: 0.5648 - val_acc: 0.6977\n",
      "Epoch 133/200\n",
      "1373/1373 [==============================] - 7s 5ms/step - loss: 0.5470 - acc: 0.7196 - val_loss: 0.5552 - val_acc: 0.7255\n",
      "Epoch 134/200\n",
      "1373/1373 [==============================] - 7s 5ms/step - loss: 0.5469 - acc: 0.7193 - val_loss: 0.5503 - val_acc: 0.7164\n",
      "Epoch 135/200\n",
      "1373/1373 [==============================] - 8s 6ms/step - loss: 0.5464 - acc: 0.7190 - val_loss: 0.5496 - val_acc: 0.7204\n",
      "Epoch 136/200\n",
      "1373/1373 [==============================] - 8s 6ms/step - loss: 0.5473 - acc: 0.7197 - val_loss: 0.5501 - val_acc: 0.7181\n",
      "Epoch 137/200\n",
      "1373/1373 [==============================] - 7s 5ms/step - loss: 0.5467 - acc: 0.7183 - val_loss: 0.5725 - val_acc: 0.6713\n",
      "Epoch 138/200\n",
      "1373/1373 [==============================] - 7s 5ms/step - loss: 0.5462 - acc: 0.7190 - val_loss: 0.5512 - val_acc: 0.7204\n",
      "Epoch 139/200\n",
      "1373/1373 [==============================] - 7s 5ms/step - loss: 0.5469 - acc: 0.7189 - val_loss: 0.5506 - val_acc: 0.7148\n",
      "Epoch 140/200\n",
      "1373/1373 [==============================] - 7s 5ms/step - loss: 0.5477 - acc: 0.7182 - val_loss: 0.5527 - val_acc: 0.7083\n",
      "Epoch 141/200\n",
      "1373/1373 [==============================] - 7s 5ms/step - loss: 0.5469 - acc: 0.7181 - val_loss: 0.5485 - val_acc: 0.7188\n",
      "Epoch 142/200\n",
      "1373/1373 [==============================] - 7s 5ms/step - loss: 0.5470 - acc: 0.7188 - val_loss: 0.5504 - val_acc: 0.7184\n",
      "Epoch 143/200\n",
      "1373/1373 [==============================] - 7s 5ms/step - loss: 0.5461 - acc: 0.7182 - val_loss: 0.5576 - val_acc: 0.7066\n",
      "Epoch 144/200\n",
      "1373/1373 [==============================] - 8s 6ms/step - loss: 0.5467 - acc: 0.7185 - val_loss: 0.5528 - val_acc: 0.7196\n",
      "Epoch 145/200\n",
      "1373/1373 [==============================] - 7s 5ms/step - loss: 0.5466 - acc: 0.7186 - val_loss: 0.5513 - val_acc: 0.7139\n",
      "Epoch 146/200\n",
      "1373/1373 [==============================] - 7s 5ms/step - loss: 0.5466 - acc: 0.7194 - val_loss: 0.5492 - val_acc: 0.7176\n",
      "Epoch 147/200\n",
      "1373/1373 [==============================] - 7s 5ms/step - loss: 0.5471 - acc: 0.7183 - val_loss: 0.5496 - val_acc: 0.7179\n",
      "Epoch 148/200\n",
      "1373/1373 [==============================] - 7s 5ms/step - loss: 0.5471 - acc: 0.7189 - val_loss: 0.5488 - val_acc: 0.7174\n",
      "Epoch 149/200\n",
      "1373/1373 [==============================] - 8s 6ms/step - loss: 0.5466 - acc: 0.7184 - val_loss: 0.5501 - val_acc: 0.7217\n",
      "Epoch 150/200\n",
      "1373/1373 [==============================] - 8s 5ms/step - loss: 0.5470 - acc: 0.7202 - val_loss: 0.5507 - val_acc: 0.7172\n",
      "Epoch 151/200\n",
      "1373/1373 [==============================] - 7s 5ms/step - loss: 0.5464 - acc: 0.7204 - val_loss: 0.5629 - val_acc: 0.7302\n",
      "Epoch 152/200\n",
      "1373/1373 [==============================] - 7s 5ms/step - loss: 0.5462 - acc: 0.7194 - val_loss: 0.5528 - val_acc: 0.7106\n",
      "Epoch 153/200\n",
      "1373/1373 [==============================] - 7s 5ms/step - loss: 0.5472 - acc: 0.7189 - val_loss: 0.5742 - val_acc: 0.6932\n",
      "Epoch 154/200\n",
      "1373/1373 [==============================] - 7s 5ms/step - loss: 0.5466 - acc: 0.7203 - val_loss: 0.5497 - val_acc: 0.7205\n",
      "Epoch 155/200\n",
      "1373/1373 [==============================] - 7s 5ms/step - loss: 0.5462 - acc: 0.7195 - val_loss: 0.5489 - val_acc: 0.7168\n",
      "Epoch 156/200\n",
      "1373/1373 [==============================] - 7s 5ms/step - loss: 0.5468 - acc: 0.7191 - val_loss: 0.5490 - val_acc: 0.7143\n",
      "Epoch 157/200\n",
      "1373/1373 [==============================] - 7s 5ms/step - loss: 0.5459 - acc: 0.7202 - val_loss: 0.5511 - val_acc: 0.7142\n",
      "Epoch 158/200\n",
      "1373/1373 [==============================] - 7s 5ms/step - loss: 0.5467 - acc: 0.7197 - val_loss: 0.5519 - val_acc: 0.7111\n",
      "Epoch 159/200\n",
      "1373/1373 [==============================] - 7s 5ms/step - loss: 0.5456 - acc: 0.7208 - val_loss: 0.5490 - val_acc: 0.7158\n",
      "Epoch 160/200\n",
      "1373/1373 [==============================] - 7s 5ms/step - loss: 0.5464 - acc: 0.7196 - val_loss: 0.5600 - val_acc: 0.7099\n",
      "Epoch 161/200\n",
      "1373/1373 [==============================] - 7s 5ms/step - loss: 0.5455 - acc: 0.7200 - val_loss: 0.5563 - val_acc: 0.6994\n",
      "Epoch 162/200\n",
      "1373/1373 [==============================] - 7s 5ms/step - loss: 0.5468 - acc: 0.7171 - val_loss: 0.5503 - val_acc: 0.7248\n",
      "Epoch 163/200\n",
      "1373/1373 [==============================] - 7s 5ms/step - loss: 0.5461 - acc: 0.7194 - val_loss: 0.5507 - val_acc: 0.7260\n",
      "Epoch 164/200\n",
      "1373/1373 [==============================] - 7s 5ms/step - loss: 0.5461 - acc: 0.7192 - val_loss: 0.5498 - val_acc: 0.7240\n",
      "Epoch 165/200\n",
      "1373/1373 [==============================] - 7s 5ms/step - loss: 0.5465 - acc: 0.7212 - val_loss: 0.5488 - val_acc: 0.7166\n",
      "Epoch 166/200\n",
      "1373/1373 [==============================] - 7s 5ms/step - loss: 0.5462 - acc: 0.7188 - val_loss: 0.5630 - val_acc: 0.7088\n",
      "Epoch 167/200\n",
      "1373/1373 [==============================] - 7s 5ms/step - loss: 0.5462 - acc: 0.7208 - val_loss: 0.5546 - val_acc: 0.7273\n",
      "Epoch 168/200\n",
      "1373/1373 [==============================] - 7s 5ms/step - loss: 0.5462 - acc: 0.7210 - val_loss: 0.5539 - val_acc: 0.7105\n",
      "Epoch 169/200\n",
      "1373/1373 [==============================] - 7s 5ms/step - loss: 0.5462 - acc: 0.7205 - val_loss: 0.5534 - val_acc: 0.7147\n",
      "Epoch 170/200\n",
      "1373/1373 [==============================] - 7s 5ms/step - loss: 0.5457 - acc: 0.7183 - val_loss: 0.5555 - val_acc: 0.7102\n",
      "Epoch 171/200\n",
      "1373/1373 [==============================] - 7s 5ms/step - loss: 0.5464 - acc: 0.7190 - val_loss: 0.5490 - val_acc: 0.7188\n",
      "Epoch 172/200\n",
      "1373/1373 [==============================] - 7s 5ms/step - loss: 0.5461 - acc: 0.7190 - val_loss: 0.5503 - val_acc: 0.7224\n",
      "Epoch 173/200\n",
      "1373/1373 [==============================] - 7s 5ms/step - loss: 0.5454 - acc: 0.7201 - val_loss: 0.5488 - val_acc: 0.7195\n",
      "Epoch 174/200\n",
      "1373/1373 [==============================] - 7s 5ms/step - loss: 0.5463 - acc: 0.7205 - val_loss: 0.5487 - val_acc: 0.7189\n",
      "Epoch 175/200\n",
      "1373/1373 [==============================] - 7s 5ms/step - loss: 0.5454 - acc: 0.7205 - val_loss: 0.5492 - val_acc: 0.7156\n",
      "Epoch 176/200\n",
      "1373/1373 [==============================] - 7s 5ms/step - loss: 0.5454 - acc: 0.7202 - val_loss: 0.5545 - val_acc: 0.7046\n",
      "Epoch 177/200\n",
      "1373/1373 [==============================] - 7s 5ms/step - loss: 0.5457 - acc: 0.7188 - val_loss: 0.5594 - val_acc: 0.7003\n",
      "Epoch 178/200\n",
      "1373/1373 [==============================] - 7s 5ms/step - loss: 0.5454 - acc: 0.7193 - val_loss: 0.5499 - val_acc: 0.7234\n",
      "Epoch 179/200\n",
      "1373/1373 [==============================] - 7s 5ms/step - loss: 0.5462 - acc: 0.7186 - val_loss: 0.5491 - val_acc: 0.7205\n",
      "Epoch 180/200\n",
      "1373/1373 [==============================] - 7s 5ms/step - loss: 0.5461 - acc: 0.7192 - val_loss: 0.5560 - val_acc: 0.7276\n"
     ]
    },
    {
     "name": "stdout",
     "output_type": "stream",
     "text": [
      "Epoch 181/200\n",
      "1373/1373 [==============================] - 7s 5ms/step - loss: 0.5457 - acc: 0.7203 - val_loss: 0.5511 - val_acc: 0.7257\n",
      "Epoch 182/200\n",
      "1373/1373 [==============================] - 7s 5ms/step - loss: 0.5461 - acc: 0.7190 - val_loss: 0.5512 - val_acc: 0.7169\n",
      "Epoch 183/200\n",
      "1373/1373 [==============================] - 8s 6ms/step - loss: 0.5455 - acc: 0.7182 - val_loss: 0.5489 - val_acc: 0.7198\n",
      "Epoch 184/200\n",
      "1373/1373 [==============================] - 7s 5ms/step - loss: 0.5460 - acc: 0.7191 - val_loss: 0.5502 - val_acc: 0.7138\n",
      "Epoch 185/200\n",
      "1373/1373 [==============================] - 7s 5ms/step - loss: 0.5451 - acc: 0.7199 - val_loss: 0.5513 - val_acc: 0.7195\n",
      "Epoch 186/200\n",
      "1373/1373 [==============================] - 7s 5ms/step - loss: 0.5456 - acc: 0.7195 - val_loss: 0.5483 - val_acc: 0.7180\n",
      "Epoch 187/200\n",
      "1373/1373 [==============================] - 7s 5ms/step - loss: 0.5456 - acc: 0.7193 - val_loss: 0.5482 - val_acc: 0.7198\n",
      "Epoch 188/200\n",
      "1373/1373 [==============================] - 7s 5ms/step - loss: 0.5458 - acc: 0.7199 - val_loss: 0.5561 - val_acc: 0.7034\n",
      "Epoch 189/200\n",
      "1373/1373 [==============================] - 7s 5ms/step - loss: 0.5458 - acc: 0.7205 - val_loss: 0.5483 - val_acc: 0.7190\n",
      "Epoch 190/200\n",
      "1373/1373 [==============================] - 8s 6ms/step - loss: 0.5452 - acc: 0.7207 - val_loss: 0.5520 - val_acc: 0.7238\n",
      "Epoch 191/200\n",
      "1373/1373 [==============================] - 8s 6ms/step - loss: 0.5452 - acc: 0.7201 - val_loss: 0.5482 - val_acc: 0.7117\n",
      "Epoch 192/200\n",
      "1373/1373 [==============================] - 7s 5ms/step - loss: 0.5451 - acc: 0.7205 - val_loss: 0.5605 - val_acc: 0.7154\n",
      "Epoch 193/200\n",
      "1373/1373 [==============================] - 8s 6ms/step - loss: 0.5458 - acc: 0.7188 - val_loss: 0.5572 - val_acc: 0.7275\n",
      "Epoch 194/200\n",
      "1373/1373 [==============================] - 7s 5ms/step - loss: 0.5460 - acc: 0.7199 - val_loss: 0.5504 - val_acc: 0.7140\n",
      "Epoch 195/200\n",
      "1373/1373 [==============================] - 7s 5ms/step - loss: 0.5450 - acc: 0.7215 - val_loss: 0.5483 - val_acc: 0.7157\n",
      "Epoch 196/200\n",
      "1373/1373 [==============================] - 7s 5ms/step - loss: 0.5452 - acc: 0.7199 - val_loss: 0.5493 - val_acc: 0.7149\n",
      "Epoch 197/200\n",
      "1373/1373 [==============================] - 7s 5ms/step - loss: 0.5451 - acc: 0.7201 - val_loss: 0.5567 - val_acc: 0.7124\n",
      "Epoch 198/200\n",
      "1373/1373 [==============================] - 7s 5ms/step - loss: 0.5448 - acc: 0.7205 - val_loss: 0.5493 - val_acc: 0.7153\n",
      "Epoch 199/200\n",
      "1373/1373 [==============================] - 7s 5ms/step - loss: 0.5449 - acc: 0.7208 - val_loss: 0.5488 - val_acc: 0.7153\n",
      "Epoch 200/200\n",
      "1373/1373 [==============================] - 7s 5ms/step - loss: 0.5452 - acc: 0.7197 - val_loss: 0.5512 - val_acc: 0.7198\n"
     ]
    }
   ],
   "source": [
    "model = tf.keras.Sequential([\n",
    "  feature_layer,\n",
    "  layers.Dense(128, activation='relu'),\n",
    "  layers.Dense(128, activation='relu'),\n",
    "  layers.Dense(1)\n",
    "])\n",
    "\n",
    "model.compile(optimizer='adam',\n",
    "              loss=tf.keras.losses.BinaryCrossentropy(from_logits=True),\n",
    "              metrics=['accuracy'])\n",
    "\n",
    "\n",
    "### Train the model with validation \n",
    "history = model.fit(train_ds,\n",
    "          validation_data=val_ds,\n",
    "          epochs=200)"
   ]
  },
  {
   "cell_type": "markdown",
   "metadata": {},
   "source": [
    "**Deep Learning accuracy to predict the disease is around:**"
   ]
  },
  {
   "cell_type": "code",
   "execution_count": 93,
   "metadata": {},
   "outputs": [
    {
     "name": "stdout",
     "output_type": "stream",
     "text": [
      "429/429 [==============================] - 1s 3ms/step - loss: 0.5374 - acc: 0.7286\n",
      "Accuracy 0.7285777\n"
     ]
    }
   ],
   "source": [
    "loss, accuracy = model.evaluate(test_ds)\n",
    "print(\"Accuracy\", accuracy)"
   ]
  },
  {
   "cell_type": "code",
   "execution_count": 94,
   "metadata": {},
   "outputs": [
    {
     "data": {
      "image/png": "[encoded data removed]",
      "text/plain": [
       "<Figure size 576x396 with 1 Axes>"
      ]
     },
     "metadata": {},
     "output_type": "display_data"
    },
    {
     "data": {
      "image/png": "[encoded data removed]",
      "text/plain": [
       "<Figure size 576x396 with 1 Axes>"
      ]
     },
     "metadata": {},
     "output_type": "display_data"
    }
   ],
   "source": [
    "# Function to plot loss and accuracy curves\n",
    "def plot_curves():\n",
    "  # Get training and test loss histories\n",
    "    training_loss = history.history['loss']\n",
    "    test_loss = history.history['val_loss']\n",
    "    training_acc = history.history['acc']\n",
    "    test_acc = history.history['val_acc']\n",
    "    # Create count of the number of epochs\n",
    "    epoch_count = range(1, len(training_loss) + 1)\n",
    "\n",
    "    # Visualize loss history\n",
    "    plt.plot(epoch_count, training_loss, 'r--')\n",
    "    plt.plot(epoch_count, test_loss, 'b-')\n",
    "    plt.legend(['Training Loss', 'Test Loss'])\n",
    "    plt.xlabel('Epoch')\n",
    "    plt.ylabel('Loss')\n",
    "    plt.show();\n",
    "    # Visualize accuracy history\n",
    "    plt.plot(epoch_count, training_acc, 'r--')\n",
    "    plt.plot(epoch_count, test_acc, 'b-')\n",
    "    plt.legend(['Training accuracy', 'Test accuracy'])\n",
    "    plt.xlabel('Epoch')\n",
    "    plt.ylabel('Accuracy')\n",
    "    plt.show();\n",
    "\n",
    "plot_curves()"
   ]
  },
  {
   "cell_type": "code",
   "execution_count": null,
   "metadata": {},
   "outputs": [],
   "source": []
  }
 ],
 "metadata": {
  "kernelspec": {
   "display_name": "Python 3",
   "language": "python",
   "name": "python3"
  },
  "language_info": {
   "codemirror_mode": {
    "name": "ipython",
    "version": 3
   },
   "file_extension": ".py",
   "mimetype": "text/x-python",
   "name": "python",
   "nbconvert_exporter": "python",
   "pygments_lexer": "ipython3",
   "version": "3.7.3"
  },
  "toc": {
   "base_numbering": 1,
   "nav_menu": {},
   "number_sections": true,
   "sideBar": true,
   "skip_h1_title": true,
   "title_cell": "Table of Contents",
   "title_sidebar": "Contents",
   "toc_cell": false,
   "toc_position": {},
   "toc_section_display": true,
   "toc_window_display": false
  }
 },
 "nbformat": 4,
 "nbformat_minor": 2
}
